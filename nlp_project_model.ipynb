{
  "cells": [
    {
      "cell_type": "markdown",
      "metadata": {},
      "source": [
        "## Imports"
      ]
    },
    {
      "cell_type": "code",
      "execution_count": null,
      "metadata": {
        "_cell_guid": "b1076dfc-b9ad-4769-8c92-a6c4dae69d19",
        "_uuid": "8f2839f25d086af736a60e9eeb907d3b93b6e0e5",
        "execution": {
          "iopub.execute_input": "2025-02-26T22:16:39.753586Z",
          "iopub.status.busy": "2025-02-26T22:16:39.753263Z",
          "iopub.status.idle": "2025-02-26T22:16:40.041659Z",
          "shell.execute_reply": "2025-02-26T22:16:40.040799Z",
          "shell.execute_reply.started": "2025-02-26T22:16:39.753523Z"
        },
        "id": "qJ0-tojyesas",
        "trusted": true
      },
      "outputs": [],
      "source": [
        "import os\n",
        "import inspect\n",
        "import numpy as np\n",
        "import pandas as pd\n",
        "import ast\n",
        "import torch\n",
        "import torch.nn as nn\n",
        "import torch.nn.functional as F\n",
        "import torch.optim as optim\n",
        "from torch.utils.data import Dataset, DataLoader\n",
        "from torch.cuda.amp import GradScaler, autocast\n",
        "from sklearn.model_selection import train_test_split\n",
        "import librosa\n",
        "import librosa.display\n",
        "import matplotlib.pyplot as plt\n",
        "from scipy.io.wavfile import write\n",
        "from IPython.display import Audio, display"
      ]
    },
    {
      "cell_type": "code",
      "execution_count": 2,
      "metadata": {
        "colab": {
          "base_uri": "https://localhost:8080/"
        },
        "id": "oXcVBY6Newle",
        "outputId": "f5703fee-7c07-4530-da99-99162ad4dc0f"
      },
      "outputs": [
        {
          "name": "stdout",
          "output_type": "stream",
          "text": [
            "Mounted at /content/drive\n"
          ]
        }
      ],
      "source": [
        "from google.colab import drive\n",
        "drive.mount('/content/drive')"
      ]
    },
    {
      "cell_type": "markdown",
      "metadata": {
        "id": "6s1zX3z-e28B"
      },
      "source": [
        "# Import preprocessed dataset"
      ]
    },
    {
      "cell_type": "code",
      "execution_count": null,
      "metadata": {
        "execution": {
          "iopub.execute_input": "2025-02-26T22:16:40.071499Z",
          "iopub.status.busy": "2025-02-26T22:16:40.071189Z",
          "iopub.status.idle": "2025-02-26T22:16:40.196792Z",
          "shell.execute_reply": "2025-02-26T22:16:40.196133Z",
          "shell.execute_reply.started": "2025-02-26T22:16:40.071480Z"
        },
        "id": "IMnjCsHDesau",
        "trusted": true
      },
      "outputs": [],
      "source": [
        "df=pd.read_csv('/content/drive/MyDrive/NLP_DS/tts_dataset.csv')"
      ]
    },
    {
      "cell_type": "code",
      "execution_count": null,
      "metadata": {
        "execution": {
          "iopub.execute_input": "2025-02-26T22:16:40.981467Z",
          "iopub.status.busy": "2025-02-26T22:16:40.981216Z",
          "iopub.status.idle": "2025-02-26T22:16:41.005054Z",
          "shell.execute_reply": "2025-02-26T22:16:41.004279Z",
          "shell.execute_reply.started": "2025-02-26T22:16:40.981447Z"
        },
        "id": "sJqrlDwaesav",
        "outputId": "d9f8e9e2-1014-454a-bd64-258f1d106044",
        "trusted": true
      },
      "outputs": [
        {
          "data": {
            "text/html": [
              "<div>\n",
              "<style scoped>\n",
              "    .dataframe tbody tr th:only-of-type {\n",
              "        vertical-align: middle;\n",
              "    }\n",
              "\n",
              "    .dataframe tbody tr th {\n",
              "        vertical-align: top;\n",
              "    }\n",
              "\n",
              "    .dataframe thead th {\n",
              "        text-align: right;\n",
              "    }\n",
              "</style>\n",
              "<table border=\"1\" class=\"dataframe\">\n",
              "  <thead>\n",
              "    <tr style=\"text-align: right;\">\n",
              "      <th></th>\n",
              "      <th>Unnamed: 0</th>\n",
              "      <th>Unique_ID</th>\n",
              "      <th>Audio_Path</th>\n",
              "      <th>Transcript_Path</th>\n",
              "      <th>transcript</th>\n",
              "      <th>phonemes</th>\n",
              "      <th>phoneme_ids</th>\n",
              "      <th>mel_spec_path</th>\n",
              "    </tr>\n",
              "  </thead>\n",
              "  <tbody>\n",
              "    <tr>\n",
              "      <th>0</th>\n",
              "      <td>0</td>\n",
              "      <td>5945</td>\n",
              "      <td>/content/drive/MyDrive/NLP_DS/final_audio/twee...</td>\n",
              "      <td>/content/drive/MyDrive/NLP_DS/tweet_transcript...</td>\n",
              "      <td>chakula chetu a book on indigenous recipes fro...</td>\n",
              "      <td>CH AA K UH L AA   CH EH T UH   AA   B OO K   O...</td>\n",
              "      <td>[3, 0, 15, 37, 17, 0, 3, 7, 34, 37, 0, 2, 27, ...</td>\n",
              "      <td>/content/drive/MyDrive/NLP_DS/mel_spec/tweet_5...</td>\n",
              "    </tr>\n",
              "    <tr>\n",
              "      <th>1</th>\n",
              "      <td>1</td>\n",
              "      <td>598</td>\n",
              "      <td>/content/drive/MyDrive/NLP_DS/final_audio/twee...</td>\n",
              "      <td>/content/drive/MyDrive/NLP_DS/tweet_transcript...</td>\n",
              "      <td>polisi amuua mpenziwe afisa wa polisi amuua mp...</td>\n",
              "      <td>P OH L IH S IH   AA M UU AA   M P EH NZ IH W E...</td>\n",
              "      <td>[29, 28, 17, 13, 31, 13, 0, 18, 36, 0, 18, 29,...</td>\n",
              "      <td>/content/drive/MyDrive/NLP_DS/mel_spec/tweet_5...</td>\n",
              "    </tr>\n",
              "    <tr>\n",
              "      <th>2</th>\n",
              "      <td>2</td>\n",
              "      <td>161</td>\n",
              "      <td>/content/drive/MyDrive/NLP_DS/final_audio/twee...</td>\n",
              "      <td>/content/drive/MyDrive/NLP_DS/tweet_transcript...</td>\n",
              "      <td>jamaa ni mtafutaji halisi weeeeeee kumbe dolph...</td>\n",
              "      <td>JH AA M AA AA   N IH   M T AA F UH T AA JH IH ...</td>\n",
              "      <td>[14, 0, 18, 0, 0, 20, 13, 18, 34, 0, 8, 37, 34...</td>\n",
              "      <td>/content/drive/MyDrive/NLP_DS/mel_spec/tweet_1...</td>\n",
              "    </tr>\n",
              "    <tr>\n",
              "      <th>3</th>\n",
              "      <td>3</td>\n",
              "      <td>3210</td>\n",
              "      <td>/content/drive/MyDrive/NLP_DS/final_audio/twee...</td>\n",
              "      <td>/content/drive/MyDrive/NLP_DS/tweet_transcript...</td>\n",
              "      <td>vodka na bei yake imekubali ama aje wadau s</td>\n",
              "      <td>V OH D K AA   N AA   B EH IH   Y AA K EH   IH ...</td>\n",
              "      <td>[38, 28, 4, 15, 0, 20, 0, 2, 7, 13, 40, 0, 15,...</td>\n",
              "      <td>/content/drive/MyDrive/NLP_DS/mel_spec/tweet 3...</td>\n",
              "    </tr>\n",
              "    <tr>\n",
              "      <th>4</th>\n",
              "      <td>4</td>\n",
              "      <td>982</td>\n",
              "      <td>/content/drive/MyDrive/NLP_DS/final_audio/twee...</td>\n",
              "      <td>/content/drive/MyDrive/NLP_DS/tweet_transcript...</td>\n",
              "      <td>mauti ya familia mama na wanawe watatu wafarik...</td>\n",
              "      <td>M AA UH T IH   Y AA   F AA M IH L IH AA   M AA...</td>\n",
              "      <td>[18, 0, 37, 34, 13, 40, 0, 8, 0, 18, 13, 17, 1...</td>\n",
              "      <td>/content/drive/MyDrive/NLP_DS/mel_spec/tweet_9...</td>\n",
              "    </tr>\n",
              "  </tbody>\n",
              "</table>\n",
              "</div>"
            ],
            "text/plain": [
              "   Unnamed: 0  Unique_ID                                         Audio_Path  \\\n",
              "0           0       5945  /content/drive/MyDrive/NLP_DS/final_audio/twee...   \n",
              "1           1        598  /content/drive/MyDrive/NLP_DS/final_audio/twee...   \n",
              "2           2        161  /content/drive/MyDrive/NLP_DS/final_audio/twee...   \n",
              "3           3       3210  /content/drive/MyDrive/NLP_DS/final_audio/twee...   \n",
              "4           4        982  /content/drive/MyDrive/NLP_DS/final_audio/twee...   \n",
              "\n",
              "                                     Transcript_Path  \\\n",
              "0  /content/drive/MyDrive/NLP_DS/tweet_transcript...   \n",
              "1  /content/drive/MyDrive/NLP_DS/tweet_transcript...   \n",
              "2  /content/drive/MyDrive/NLP_DS/tweet_transcript...   \n",
              "3  /content/drive/MyDrive/NLP_DS/tweet_transcript...   \n",
              "4  /content/drive/MyDrive/NLP_DS/tweet_transcript...   \n",
              "\n",
              "                                          transcript  \\\n",
              "0  chakula chetu a book on indigenous recipes fro...   \n",
              "1  polisi amuua mpenziwe afisa wa polisi amuua mp...   \n",
              "2  jamaa ni mtafutaji halisi weeeeeee kumbe dolph...   \n",
              "3        vodka na bei yake imekubali ama aje wadau s   \n",
              "4  mauti ya familia mama na wanawe watatu wafarik...   \n",
              "\n",
              "                                            phonemes  \\\n",
              "0  CH AA K UH L AA   CH EH T UH   AA   B OO K   O...   \n",
              "1  P OH L IH S IH   AA M UU AA   M P EH NZ IH W E...   \n",
              "2  JH AA M AA AA   N IH   M T AA F UH T AA JH IH ...   \n",
              "3  V OH D K AA   N AA   B EH IH   Y AA K EH   IH ...   \n",
              "4  M AA UH T IH   Y AA   F AA M IH L IH AA   M AA...   \n",
              "\n",
              "                                         phoneme_ids  \\\n",
              "0  [3, 0, 15, 37, 17, 0, 3, 7, 34, 37, 0, 2, 27, ...   \n",
              "1  [29, 28, 17, 13, 31, 13, 0, 18, 36, 0, 18, 29,...   \n",
              "2  [14, 0, 18, 0, 0, 20, 13, 18, 34, 0, 8, 37, 34...   \n",
              "3  [38, 28, 4, 15, 0, 20, 0, 2, 7, 13, 40, 0, 15,...   \n",
              "4  [18, 0, 37, 34, 13, 40, 0, 8, 0, 18, 13, 17, 1...   \n",
              "\n",
              "                                       mel_spec_path  \n",
              "0  /content/drive/MyDrive/NLP_DS/mel_spec/tweet_5...  \n",
              "1  /content/drive/MyDrive/NLP_DS/mel_spec/tweet_5...  \n",
              "2  /content/drive/MyDrive/NLP_DS/mel_spec/tweet_1...  \n",
              "3  /content/drive/MyDrive/NLP_DS/mel_spec/tweet 3...  \n",
              "4  /content/drive/MyDrive/NLP_DS/mel_spec/tweet_9...  "
            ]
          },
          "execution_count": 3,
          "metadata": {},
          "output_type": "execute_result"
        }
      ],
      "source": [
        "df.head()"
      ]
    },
    {
      "cell_type": "code",
      "execution_count": null,
      "metadata": {
        "execution": {
          "iopub.execute_input": "2025-02-26T22:16:41.596606Z",
          "iopub.status.busy": "2025-02-26T22:16:41.596326Z",
          "iopub.status.idle": "2025-02-26T22:16:41.603157Z",
          "shell.execute_reply": "2025-02-26T22:16:41.602507Z",
          "shell.execute_reply.started": "2025-02-26T22:16:41.596578Z"
        },
        "id": "OGelhCqHesav",
        "trusted": true
      },
      "outputs": [],
      "source": [
        "# df['mel_spec_path'] = df['mel_spec_path'].str.replace(\n",
        "#     '/content/drive/MyDrive/NLP_DS/',\n",
        "#     '/kaggle/input/mel-spec/'\n",
        "# )"
      ]
    },
    {
      "cell_type": "code",
      "execution_count": null,
      "metadata": {
        "execution": {
          "iopub.execute_input": "2025-02-26T22:16:42.528777Z",
          "iopub.status.busy": "2025-02-26T22:16:42.528580Z",
          "iopub.status.idle": "2025-02-26T22:16:42.542428Z",
          "shell.execute_reply": "2025-02-26T22:16:42.541843Z",
          "shell.execute_reply.started": "2025-02-26T22:16:42.528760Z"
        },
        "id": "ltAT4bYmesaw",
        "outputId": "0d94b6f4-4f72-4165-d412-16a06b73dc5b",
        "trusted": true
      },
      "outputs": [
        {
          "name": "stdout",
          "output_type": "stream",
          "text": [
            "Mel spectrogram shape: (80, 1164)\n"
          ]
        }
      ],
      "source": [
        "file_path = \"/content/drive/MyDrive/NLP_DS/mel_spec/tweet 2656_mel.npy\"\n",
        "mel_spec = np.load(file_path)\n",
        "print(\"Mel spectrogram shape:\", mel_spec.shape)"
      ]
    },
    {
      "cell_type": "code",
      "execution_count": null,
      "metadata": {
        "execution": {
          "iopub.execute_input": "2025-02-26T22:16:44.684156Z",
          "iopub.status.busy": "2025-02-26T22:16:44.683896Z",
          "iopub.status.idle": "2025-02-26T22:16:44.701208Z",
          "shell.execute_reply": "2025-02-26T22:16:44.700324Z",
          "shell.execute_reply.started": "2025-02-26T22:16:44.684135Z"
        },
        "id": "Wpougfc8esaw",
        "outputId": "cd8b88ce-76f8-4bd3-ea8b-7eb306abc7de",
        "trusted": true
      },
      "outputs": [
        {
          "data": {
            "text/html": [
              "<div>\n",
              "<style scoped>\n",
              "    .dataframe tbody tr th:only-of-type {\n",
              "        vertical-align: middle;\n",
              "    }\n",
              "\n",
              "    .dataframe tbody tr th {\n",
              "        vertical-align: top;\n",
              "    }\n",
              "\n",
              "    .dataframe thead th {\n",
              "        text-align: right;\n",
              "    }\n",
              "</style>\n",
              "<table border=\"1\" class=\"dataframe\">\n",
              "  <thead>\n",
              "    <tr style=\"text-align: right;\">\n",
              "      <th></th>\n",
              "      <th>Unique_ID</th>\n",
              "      <th>Audio_Path</th>\n",
              "      <th>Transcript_Path</th>\n",
              "      <th>transcript</th>\n",
              "      <th>phonemes</th>\n",
              "      <th>phoneme_ids</th>\n",
              "      <th>mel_spec_path</th>\n",
              "    </tr>\n",
              "  </thead>\n",
              "  <tbody>\n",
              "    <tr>\n",
              "      <th>0</th>\n",
              "      <td>5945</td>\n",
              "      <td>/content/drive/MyDrive/NLP_DS/final_audio/twee...</td>\n",
              "      <td>/content/drive/MyDrive/NLP_DS/tweet_transcript...</td>\n",
              "      <td>chakula chetu a book on indigenous recipes fro...</td>\n",
              "      <td>CH AA K UH L AA   CH EH T UH   AA   B OO K   O...</td>\n",
              "      <td>[3, 0, 15, 37, 17, 0, 3, 7, 34, 37, 0, 2, 27, ...</td>\n",
              "      <td>/kaggle/input/mel-spec/mel_spec/tweet_5945_mel...</td>\n",
              "    </tr>\n",
              "    <tr>\n",
              "      <th>1</th>\n",
              "      <td>598</td>\n",
              "      <td>/content/drive/MyDrive/NLP_DS/final_audio/twee...</td>\n",
              "      <td>/content/drive/MyDrive/NLP_DS/tweet_transcript...</td>\n",
              "      <td>polisi amuua mpenziwe afisa wa polisi amuua mp...</td>\n",
              "      <td>P OH L IH S IH   AA M UU AA   M P EH NZ IH W E...</td>\n",
              "      <td>[29, 28, 17, 13, 31, 13, 0, 18, 36, 0, 18, 29,...</td>\n",
              "      <td>/kaggle/input/mel-spec/mel_spec/tweet_598_mel.npy</td>\n",
              "    </tr>\n",
              "    <tr>\n",
              "      <th>2</th>\n",
              "      <td>161</td>\n",
              "      <td>/content/drive/MyDrive/NLP_DS/final_audio/twee...</td>\n",
              "      <td>/content/drive/MyDrive/NLP_DS/tweet_transcript...</td>\n",
              "      <td>jamaa ni mtafutaji halisi weeeeeee kumbe dolph...</td>\n",
              "      <td>JH AA M AA AA   N IH   M T AA F UH T AA JH IH ...</td>\n",
              "      <td>[14, 0, 18, 0, 0, 20, 13, 18, 34, 0, 8, 37, 34...</td>\n",
              "      <td>/kaggle/input/mel-spec/mel_spec/tweet_161_mel.npy</td>\n",
              "    </tr>\n",
              "    <tr>\n",
              "      <th>3</th>\n",
              "      <td>3210</td>\n",
              "      <td>/content/drive/MyDrive/NLP_DS/final_audio/twee...</td>\n",
              "      <td>/content/drive/MyDrive/NLP_DS/tweet_transcript...</td>\n",
              "      <td>vodka na bei yake imekubali ama aje wadau s</td>\n",
              "      <td>V OH D K AA   N AA   B EH IH   Y AA K EH   IH ...</td>\n",
              "      <td>[38, 28, 4, 15, 0, 20, 0, 2, 7, 13, 40, 0, 15,...</td>\n",
              "      <td>/kaggle/input/mel-spec/mel_spec/tweet 3210_mel...</td>\n",
              "    </tr>\n",
              "    <tr>\n",
              "      <th>4</th>\n",
              "      <td>982</td>\n",
              "      <td>/content/drive/MyDrive/NLP_DS/final_audio/twee...</td>\n",
              "      <td>/content/drive/MyDrive/NLP_DS/tweet_transcript...</td>\n",
              "      <td>mauti ya familia mama na wanawe watatu wafarik...</td>\n",
              "      <td>M AA UH T IH   Y AA   F AA M IH L IH AA   M AA...</td>\n",
              "      <td>[18, 0, 37, 34, 13, 40, 0, 8, 0, 18, 13, 17, 1...</td>\n",
              "      <td>/kaggle/input/mel-spec/mel_spec/tweet_982_mel.npy</td>\n",
              "    </tr>\n",
              "  </tbody>\n",
              "</table>\n",
              "</div>"
            ],
            "text/plain": [
              "   Unique_ID                                         Audio_Path  \\\n",
              "0       5945  /content/drive/MyDrive/NLP_DS/final_audio/twee...   \n",
              "1        598  /content/drive/MyDrive/NLP_DS/final_audio/twee...   \n",
              "2        161  /content/drive/MyDrive/NLP_DS/final_audio/twee...   \n",
              "3       3210  /content/drive/MyDrive/NLP_DS/final_audio/twee...   \n",
              "4        982  /content/drive/MyDrive/NLP_DS/final_audio/twee...   \n",
              "\n",
              "                                     Transcript_Path  \\\n",
              "0  /content/drive/MyDrive/NLP_DS/tweet_transcript...   \n",
              "1  /content/drive/MyDrive/NLP_DS/tweet_transcript...   \n",
              "2  /content/drive/MyDrive/NLP_DS/tweet_transcript...   \n",
              "3  /content/drive/MyDrive/NLP_DS/tweet_transcript...   \n",
              "4  /content/drive/MyDrive/NLP_DS/tweet_transcript...   \n",
              "\n",
              "                                          transcript  \\\n",
              "0  chakula chetu a book on indigenous recipes fro...   \n",
              "1  polisi amuua mpenziwe afisa wa polisi amuua mp...   \n",
              "2  jamaa ni mtafutaji halisi weeeeeee kumbe dolph...   \n",
              "3        vodka na bei yake imekubali ama aje wadau s   \n",
              "4  mauti ya familia mama na wanawe watatu wafarik...   \n",
              "\n",
              "                                            phonemes  \\\n",
              "0  CH AA K UH L AA   CH EH T UH   AA   B OO K   O...   \n",
              "1  P OH L IH S IH   AA M UU AA   M P EH NZ IH W E...   \n",
              "2  JH AA M AA AA   N IH   M T AA F UH T AA JH IH ...   \n",
              "3  V OH D K AA   N AA   B EH IH   Y AA K EH   IH ...   \n",
              "4  M AA UH T IH   Y AA   F AA M IH L IH AA   M AA...   \n",
              "\n",
              "                                         phoneme_ids  \\\n",
              "0  [3, 0, 15, 37, 17, 0, 3, 7, 34, 37, 0, 2, 27, ...   \n",
              "1  [29, 28, 17, 13, 31, 13, 0, 18, 36, 0, 18, 29,...   \n",
              "2  [14, 0, 18, 0, 0, 20, 13, 18, 34, 0, 8, 37, 34...   \n",
              "3  [38, 28, 4, 15, 0, 20, 0, 2, 7, 13, 40, 0, 15,...   \n",
              "4  [18, 0, 37, 34, 13, 40, 0, 8, 0, 18, 13, 17, 1...   \n",
              "\n",
              "                                       mel_spec_path  \n",
              "0  /kaggle/input/mel-spec/mel_spec/tweet_5945_mel...  \n",
              "1  /kaggle/input/mel-spec/mel_spec/tweet_598_mel.npy  \n",
              "2  /kaggle/input/mel-spec/mel_spec/tweet_161_mel.npy  \n",
              "3  /kaggle/input/mel-spec/mel_spec/tweet 3210_mel...  \n",
              "4  /kaggle/input/mel-spec/mel_spec/tweet_982_mel.npy  "
            ]
          },
          "execution_count": 7,
          "metadata": {},
          "output_type": "execute_result"
        }
      ],
      "source": [
        "df=df.drop(columns=['Unnamed: 0'])\n",
        "df.head()"
      ]
    },
    {
      "cell_type": "code",
      "execution_count": null,
      "metadata": {
        "execution": {
          "iopub.execute_input": "2025-02-26T22:16:46.273595Z",
          "iopub.status.busy": "2025-02-26T22:16:46.273239Z",
          "iopub.status.idle": "2025-02-26T22:16:50.193642Z",
          "shell.execute_reply": "2025-02-26T22:16:50.192886Z",
          "shell.execute_reply.started": "2025-02-26T22:16:46.273529Z"
        },
        "id": "SHzC-fveesax",
        "outputId": "2f4908b8-eed0-4e05-f7cf-9889f998daf3",
        "trusted": true
      },
      "outputs": [
        {
          "name": "stdout",
          "output_type": "stream",
          "text": [
            "Using device: cuda\n",
            "Full dataset size: 4538\n",
            "Train size: 3630 Test size: 908\n"
          ]
        }
      ],
      "source": [
        "# Set device\n",
        "device = torch.device(\"cuda\" if torch.cuda.is_available() else \"cpu\")\n",
        "print(\"Using device:\", device)\n",
        "\n",
        "print(\"Full dataset size:\", len(df))\n",
        "\n",
        "train_df, test_df = train_test_split(df, test_size=0.2, random_state=42)\n",
        "print(\"Train size:\", len(train_df), \"Test size:\", len(test_df))"
      ]
    },
    {
      "cell_type": "markdown",
      "metadata": {
        "id": "Cf5JeBrFfg2F"
      },
      "source": [
        "# Embedding and batching"
      ]
    },
    {
      "cell_type": "code",
      "execution_count": null,
      "metadata": {
        "id": "yQHirZR3fz3C"
      },
      "outputs": [],
      "source": [
        "class TacotronDataset(Dataset):\n",
        "    def __init__(self, df, phoneme_col, mel_spec_path_col, max_phoneme_length=100, max_mel_length=1200):\n",
        "        self.df = df\n",
        "        self.phoneme_col = phoneme_col\n",
        "        self.mel_spec_path_col = mel_spec_path_col\n",
        "        self.max_phoneme_length = max_phoneme_length\n",
        "        self.max_mel_length = max_mel_length\n",
        "\n",
        "    def __len__(self):\n",
        "        return len(self.df)\n",
        "\n",
        "    def __getitem__(self, idx):\n",
        "        row = self.df.iloc[idx]\n",
        "\n",
        "        # Get phoneme_ids (convert if stored as string)\n",
        "        phoneme_ids = row[self.phoneme_col]\n",
        "        if isinstance(phoneme_ids, str):\n",
        "            phoneme_ids = ast.literal_eval(phoneme_ids)\n",
        "        phoneme_ids = phoneme_ids[:self.max_phoneme_length] + [0] * max(0, self.max_phoneme_length - len(phoneme_ids))\n",
        "        phoneme_ids_tensor = torch.tensor(phoneme_ids, dtype=torch.long)\n",
        "\n",
        "        # Load and normalize mel spectrogram\n",
        "        mel_spec = np.load(row[self.mel_spec_path_col])\n",
        "        mel_spec = (mel_spec - np.mean(mel_spec)) / (np.std(mel_spec) + 1e-6)  # Normalize\n",
        "        mel_spec_tensor = torch.tensor(mel_spec, dtype=torch.float).transpose(0, 1)\n",
        "        mel_spec_tensor = F.pad(mel_spec_tensor, (0, 0, 0, max(0, self.max_mel_length - mel_spec_tensor.shape[0])))[:self.max_mel_length, :]\n",
        "\n",
        "        return phoneme_ids_tensor, mel_spec_tensor\n",
        "\n",
        "def collate_fn(batch):\n",
        "    phoneme_batch = torch.stack([item[0] for item in batch], dim=0)\n",
        "    mel_batch = torch.stack([item[1] for item in batch], dim=0)\n",
        "    return phoneme_batch, mel_batch"
      ]
    },
    {
      "cell_type": "markdown",
      "metadata": {
        "id": "oKW59IpAf3Ou"
      },
      "source": [
        "## Creating dataloaders"
      ]
    },
    {
      "cell_type": "code",
      "execution_count": null,
      "metadata": {
        "id": "oTlg28C-f62w"
      },
      "outputs": [],
      "source": [
        "train_dataset = TacotronDataset(train_df, phoneme_col=\"phoneme_ids\", mel_spec_path_col=\"mel_spec_path\")\n",
        "test_dataset = TacotronDataset(test_df, phoneme_col=\"phoneme_ids\", mel_spec_path_col=\"mel_spec_path\")\n",
        "\n",
        "train_loader = DataLoader(train_dataset, batch_size=8, shuffle=True, collate_fn=collate_fn, num_workers=0)\n",
        "test_loader = DataLoader(test_dataset, batch_size=8, shuffle=False, collate_fn=collate_fn, num_workers=0)"
      ]
    },
    {
      "cell_type": "markdown",
      "metadata": {
        "id": "1ymAMO41f-oY"
      },
      "source": [
        "# Tacotron 2"
      ]
    },
    {
      "cell_type": "markdown",
      "metadata": {
        "id": "h0OoZ_T-gFlU"
      },
      "source": [
        "## Encoder"
      ]
    },
    {
      "cell_type": "code",
      "execution_count": null,
      "metadata": {
        "id": "OSXhjKtZgFEK"
      },
      "outputs": [],
      "source": [
        "vocab_size = 50\n",
        "embedding_dim = 256\n",
        "encoder_dim = 512\n",
        "decoder_dim = 512\n",
        "mel_dim = 80\n",
        "\n",
        "class SimpleEncoder(nn.Module):\n",
        "    def __init__(self, embedding_dim, encoder_dim=512):\n",
        "        super(SimpleEncoder, self).__init__()\n",
        "        self.conv = nn.Conv1d(embedding_dim, encoder_dim, kernel_size=3, padding=1)\n",
        "        self.lstm = nn.LSTM(encoder_dim, encoder_dim // 2, batch_first=True, bidirectional=True, num_layers=2)\n",
        "\n",
        "    def forward(self, x):\n",
        "        x = x.transpose(1, 2)\n",
        "        x = F.relu(self.conv(x))\n",
        "        x = x.transpose(1, 2)\n",
        "        outputs, _ = self.lstm(x)\n",
        "        return outputs"
      ]
    },
    {
      "cell_type": "markdown",
      "metadata": {
        "id": "rH4KGaa3gHMq"
      },
      "source": [
        "## Attention Mechanism"
      ]
    },
    {
      "cell_type": "code",
      "execution_count": null,
      "metadata": {
        "id": "xsnN8yASgMFK"
      },
      "outputs": [],
      "source": [
        "class SimpleAttention(nn.Module):\n",
        "    def __init__(self, encoder_dim, decoder_dim, attention_dim=128):\n",
        "        super(SimpleAttention, self).__init__()\n",
        "        self.W1 = nn.Linear(encoder_dim, attention_dim)\n",
        "        self.W2 = nn.Linear(decoder_dim, attention_dim)\n",
        "        self.V = nn.Linear(attention_dim, 1)\n",
        "\n",
        "    def forward(self, encoder_outputs, decoder_hidden):\n",
        "        dec_hidden_expanded = decoder_hidden.unsqueeze(1).expand_as(encoder_outputs)\n",
        "        score = self.V(torch.tanh(self.W1(encoder_outputs) + self.W2(dec_hidden_expanded))).squeeze(-1)\n",
        "        weights = F.softmax(score, dim=1)\n",
        "        context = torch.bmm(weights.unsqueeze(1), encoder_outputs).squeeze(1)\n",
        "        return context, weights"
      ]
    },
    {
      "cell_type": "markdown",
      "metadata": {
        "id": "xbHxhs4sgNeO"
      },
      "source": [
        "## Decoder"
      ]
    },
    {
      "cell_type": "code",
      "execution_count": null,
      "metadata": {
        "execution": {
          "iopub.execute_input": "2025-02-26T23:08:11.431958Z",
          "iopub.status.busy": "2025-02-26T23:08:11.431648Z",
          "iopub.status.idle": "2025-02-26T23:08:11.451680Z",
          "shell.execute_reply": "2025-02-26T23:08:11.450701Z",
          "shell.execute_reply.started": "2025-02-26T23:08:11.431935Z"
        },
        "id": "uLSYxFVqesax",
        "trusted": true
      },
      "outputs": [],
      "source": [
        "class SimpleDecoder(nn.Module):\n",
        "    def __init__(self, encoder_dim, decoder_dim=512, mel_dim=80):\n",
        "        super(SimpleDecoder, self).__init__()\n",
        "        self.decoder_dim = decoder_dim\n",
        "        self.lstm_cell = nn.LSTMCell(mel_dim + encoder_dim, decoder_dim)\n",
        "        self.attention = SimpleAttention(encoder_dim, decoder_dim, attention_dim=128)\n",
        "        self.hidden_linear = nn.Linear(encoder_dim, decoder_dim)\n",
        "        self.cell_linear = nn.Linear(encoder_dim, decoder_dim)\n",
        "        self.linear = nn.Linear(decoder_dim + encoder_dim, mel_dim)\n",
        "\n",
        "        # Trainable hidden state initialization\n",
        "        self.init_hidden = nn.Parameter(torch.zeros(decoder_dim))\n",
        "        self.init_cell = nn.Parameter(torch.zeros(decoder_dim))\n",
        "\n",
        "    def forward(self, encoder_outputs, mel_targets, teacher_forcing_ratio=1.0):\n",
        "        B, T_mel, mel_dim = mel_targets.size()\n",
        "        device = encoder_outputs.device\n",
        "\n",
        "        # Initialize trainable hidden and cell states\n",
        "        decoder_hidden = self.init_hidden.expand(B, -1).to(device)\n",
        "        decoder_cell = self.init_cell.expand(B, -1).to(device)\n",
        "\n",
        "        decoder_input = torch.zeros(B, mel_dim).to(device)\n",
        "        outputs = []\n",
        "\n",
        "        for t in range(T_mel):\n",
        "            context, _ = self.attention(encoder_outputs, decoder_hidden)\n",
        "            input_combined = torch.cat([decoder_input, context], dim=1)\n",
        "            decoder_hidden, decoder_cell = self.lstm_cell(input_combined, (decoder_hidden, decoder_cell))\n",
        "            context, _ = self.attention(encoder_outputs, decoder_hidden)\n",
        "            out = self.linear(torch.cat([decoder_hidden, context], dim=1))\n",
        "            outputs.append(out.unsqueeze(1))\n",
        "            decoder_input = mel_targets[:, t, :] if torch.rand(1).item() < teacher_forcing_ratio else out\n",
        "\n",
        "        return torch.cat(outputs, dim=1)\n",
        "\n",
        "class PostNet(nn.Module):\n",
        "    def __init__(self, mel_dim):\n",
        "        super(PostNet, self).__init__()\n",
        "        self.conv1 = nn.Conv1d(mel_dim, 512, kernel_size=5, padding=2)\n",
        "        self.conv2 = nn.Conv1d(512, 512, kernel_size=5, padding=2)\n",
        "        self.conv3 = nn.Conv1d(512, mel_dim, kernel_size=5, padding=2)\n",
        "\n",
        "    def forward(self, x):\n",
        "        x = x.transpose(1, 2)\n",
        "        x = F.relu(self.conv1(x))\n",
        "        x = F.relu(self.conv2(x))\n",
        "        x = self.conv3(x)\n",
        "        return x.transpose(1, 2)\n",
        "\n"
      ]
    },
    {
      "cell_type": "markdown",
      "metadata": {
        "id": "lOZ3xAUsgSXz"
      },
      "source": [
        "## Model"
      ]
    },
    {
      "cell_type": "code",
      "execution_count": null,
      "metadata": {
        "id": "hkMO0CGjgUiZ"
      },
      "outputs": [],
      "source": [
        "class SimpleTacotron2(nn.Module):\n",
        "    def __init__(self, vocab_size, embedding_dim, encoder_dim, decoder_dim, mel_dim):\n",
        "        super(SimpleTacotron2, self).__init__()\n",
        "        self.embedding = nn.Embedding(vocab_size, embedding_dim)\n",
        "        self.encoder = SimpleEncoder(embedding_dim, encoder_dim)\n",
        "        self.decoder = SimpleDecoder(encoder_dim, decoder_dim, mel_dim)\n",
        "        self.postnet = PostNet(mel_dim)\n",
        "\n",
        "    def forward(self, phoneme_ids, mel_targets, teacher_forcing_ratio):\n",
        "        embedded = self.embedding(phoneme_ids)\n",
        "        encoder_outputs = self.encoder(embedded)\n",
        "        mel_outputs = self.decoder(encoder_outputs, mel_targets, teacher_forcing_ratio)\n",
        "        refined_mel_outputs = self.postnet(mel_outputs)\n",
        "        return refined_mel_outputs"
      ]
    },
    {
      "cell_type": "markdown",
      "metadata": {
        "id": "bOQYjm3CgbIu"
      },
      "source": [
        "# Training model"
      ]
    },
    {
      "cell_type": "code",
      "execution_count": null,
      "metadata": {
        "id": "h_mGB9jJgc-9"
      },
      "outputs": [],
      "source": [
        "device = torch.device(\"cuda\" if torch.cuda.is_available() else \"cpu\")\n",
        "print(\"Using device:\", device)\n",
        "\n",
        "# Hyperparameters\n",
        "vocab_size = 50\n",
        "embedding_dim = 256\n",
        "encoder_dim = 256\n",
        "decoder_dim = 256\n",
        "mel_dim = 80\n",
        "num_epochs = 100 # Use high epoch\n",
        "learning_rate = 0.0005"
      ]
    },
    {
      "cell_type": "markdown",
      "metadata": {
        "id": "29345RvqgfUu"
      },
      "source": [
        "## Initialize model and create checkpoints"
      ]
    },
    {
      "cell_type": "markdown",
      "metadata": {
        "id": "QB4FQWXOgqn7"
      },
      "source": [
        "### Training model"
      ]
    },
    {
      "cell_type": "code",
      "execution_count": null,
      "metadata": {
        "execution": {
          "iopub.execute_input": "2025-02-26T23:40:44.362300Z",
          "iopub.status.busy": "2025-02-26T23:40:44.361998Z",
          "iopub.status.idle": "2025-02-27T08:57:28.696214Z",
          "shell.execute_reply": "2025-02-27T08:57:28.695276Z",
          "shell.execute_reply.started": "2025-02-26T23:40:44.362276Z"
        },
        "id": "nJWHW-uvesay",
        "outputId": "a80398b7-21c6-467f-9f06-6c904835f000",
        "trusted": true
      },
      "outputs": [
        {
          "name": "stdout",
          "output_type": "stream",
          "text": [
            "Using device: cuda\n"
          ]
        },
        {
          "name": "stderr",
          "output_type": "stream",
          "text": [
            "<ipython-input-17-6e324b60dab6>:26: FutureWarning: `torch.cuda.amp.GradScaler(args...)` is deprecated. Please use `torch.amp.GradScaler('cuda', args...)` instead.\n",
            "  scaler = GradScaler()  # Mixed Precision scaler\n",
            "<ipython-input-17-6e324b60dab6>:50: FutureWarning: `torch.cuda.amp.autocast(args...)` is deprecated. Please use `torch.amp.autocast('cuda', args...)` instead.\n",
            "  with autocast():\n"
          ]
        },
        {
          "name": "stdout",
          "output_type": "stream",
          "text": [
            "Epoch [1/20], Train Loss: 0.0954, Teacher Forcing Ratio: 1.00\n"
          ]
        },
        {
          "name": "stderr",
          "output_type": "stream",
          "text": [
            "<ipython-input-17-6e324b60dab6>:75: FutureWarning: `torch.cuda.amp.autocast(args...)` is deprecated. Please use `torch.amp.autocast('cuda', args...)` instead.\n",
            "  with autocast():\n"
          ]
        },
        {
          "name": "stdout",
          "output_type": "stream",
          "text": [
            "Epoch [1/20], Test Loss: 0.8892\n",
            "Epoch [2/20], Train Loss: 0.0311, Teacher Forcing Ratio: 0.99\n",
            "Epoch [2/20], Test Loss: 0.8937\n",
            "Epoch [3/20], Train Loss: 0.0202, Teacher Forcing Ratio: 0.98\n",
            "Epoch [3/20], Test Loss: 0.8844\n",
            "Epoch [4/20], Train Loss: 0.0154, Teacher Forcing Ratio: 0.97\n",
            "Epoch [4/20], Test Loss: 0.8787\n",
            "Epoch [5/20], Train Loss: 0.0125, Teacher Forcing Ratio: 0.96\n",
            "Epoch [5/20], Test Loss: 0.8983\n",
            "Checkpoint saved: ./checkpoints/tacotron2_epoch05.pth\n",
            "Epoch [6/20], Train Loss: 0.0107, Teacher Forcing Ratio: 0.95\n",
            "Epoch [6/20], Test Loss: 0.8970\n",
            "Epoch [7/20], Train Loss: 0.0096, Teacher Forcing Ratio: 0.94\n",
            "Epoch [7/20], Test Loss: 0.8990\n",
            "Epoch [8/20], Train Loss: 0.0088, Teacher Forcing Ratio: 0.93\n",
            "Epoch [8/20], Test Loss: 0.8994\n",
            "Epoch [9/20], Train Loss: 0.0082, Teacher Forcing Ratio: 0.92\n",
            "Epoch [9/20], Test Loss: 0.8900\n",
            "Epoch [10/20], Train Loss: 0.0074, Teacher Forcing Ratio: 0.91\n",
            "Epoch [10/20], Test Loss: 0.8939\n",
            "Checkpoint saved: ./checkpoints/tacotron2_epoch10.pth\n",
            "Epoch [11/20], Train Loss: 0.0073, Teacher Forcing Ratio: 0.90\n",
            "Epoch [11/20], Test Loss: 0.8935\n",
            "Epoch [12/20], Train Loss: 0.0068, Teacher Forcing Ratio: 0.89\n",
            "Epoch [12/20], Test Loss: 0.8882\n",
            "Epoch [13/20], Train Loss: 0.0068, Teacher Forcing Ratio: 0.88\n",
            "Epoch [13/20], Test Loss: 0.8864\n",
            "Epoch [14/20], Train Loss: 0.0067, Teacher Forcing Ratio: 0.87\n",
            "Epoch [14/20], Test Loss: 0.8845\n",
            "Epoch [15/20], Train Loss: 0.0064, Teacher Forcing Ratio: 0.86\n",
            "Epoch [15/20], Test Loss: 0.8834\n",
            "Checkpoint saved: ./checkpoints/tacotron2_epoch15.pth\n",
            "Epoch [16/20], Train Loss: 0.0062, Teacher Forcing Ratio: 0.85\n",
            "Epoch [16/20], Test Loss: 0.8864\n",
            "Epoch [17/20], Train Loss: 0.0063, Teacher Forcing Ratio: 0.84\n",
            "Epoch [17/20], Test Loss: 0.8834\n",
            "Epoch [18/20], Train Loss: 0.0062, Teacher Forcing Ratio: 0.83\n",
            "Epoch [18/20], Test Loss: 0.8839\n",
            "Epoch [19/20], Train Loss: 0.0063, Teacher Forcing Ratio: 0.82\n",
            "Epoch [19/20], Test Loss: 0.8811\n",
            "Epoch [20/20], Train Loss: 0.0062, Teacher Forcing Ratio: 0.81\n",
            "Epoch [20/20], Test Loss: 0.8822\n",
            "Checkpoint saved: ./checkpoints/tacotron2_epoch20.pth\n"
          ]
        },
        {
          "data": {
            "image/png": "[encoded data removed]",
            "text/plain": [
              "<Figure size 1000x600 with 1 Axes>"
            ]
          },
          "metadata": {},
          "output_type": "display_data"
        }
      ],
      "source": [
        "model = SimpleTacotron2(vocab_size, embedding_dim, encoder_dim, decoder_dim, mel_dim).to(device)\n",
        "optimizer = optim.Adam(model.parameters(), lr=learning_rate)\n",
        "criterion = nn.MSELoss()\n",
        "scaler = GradScaler()\n",
        "\n",
        "checkpoint_dir = \"./checkpoints\"\n",
        "os.makedirs(checkpoint_dir, exist_ok=True)\n",
        "\n",
        "train_losses = []\n",
        "test_losses = []\n",
        "\n",
        "for epoch in range(num_epochs):\n",
        "    teacher_forcing_ratio = max(0.5, 1.0 - epoch * 0.01)\n",
        "    model.train()\n",
        "    running_loss = 0.0\n",
        "\n",
        "    for phoneme_ids, mel_targets in train_loader:\n",
        "        phoneme_ids = phoneme_ids.to(device)\n",
        "        mel_targets = mel_targets.to(device)\n",
        "\n",
        "        optimizer.zero_grad()\n",
        "\n",
        "        with autocast():\n",
        "            outputs = model(phoneme_ids, mel_targets, teacher_forcing_ratio)\n",
        "            loss = criterion(outputs, mel_targets)\n",
        "\n",
        "        scaler.scale(loss).backward()\n",
        "        scaler.step(optimizer)\n",
        "        scaler.update()\n",
        "\n",
        "        running_loss += loss.item() * phoneme_ids.size(0)\n",
        "\n",
        "    train_loss = running_loss / len(train_dataset)\n",
        "    train_losses.append(train_loss)\n",
        "    print(f\"Epoch [{epoch+1}/{num_epochs}], Train Loss: {train_loss:.4f}, Teacher Forcing Ratio: {teacher_forcing_ratio:.2f}\")\n",
        "\n",
        "    model.eval()\n",
        "    running_test_loss = 0.0\n",
        "\n",
        "    with torch.no_grad():\n",
        "        for phoneme_ids, mel_targets in test_loader:\n",
        "            phoneme_ids = phoneme_ids.to(device)\n",
        "            mel_targets = mel_targets.to(device)\n",
        "\n",
        "            with autocast():\n",
        "                outputs = model(phoneme_ids, mel_targets, teacher_forcing_ratio=0.0)\n",
        "                loss = criterion(outputs, mel_targets)\n",
        "\n",
        "            running_test_loss += loss.item() * phoneme_ids.size(0)\n",
        "\n",
        "    test_loss = running_test_loss / len(test_dataset)\n",
        "    test_losses.append(test_loss)\n",
        "    print(f\"Epoch [{epoch+1}/{num_epochs}], Test Loss: {test_loss:.4f}\")\n",
        "\n",
        "    # Save checkpoint every 5 epochs\n",
        "    if (epoch + 1) % 5 == 0:\n",
        "        checkpoint_path = os.path.join(checkpoint_dir, f\"tacotron2_epoch{epoch+1:02d}.pth\")\n",
        "        torch.save({\n",
        "            \"epoch\": epoch + 1,\n",
        "            \"model_state_dict\": model.state_dict(),\n",
        "            \"optimizer_state_dict\": optimizer.state_dict(),\n",
        "            \"train_loss\": train_loss,\n",
        "            \"test_loss\": test_loss,\n",
        "        }, checkpoint_path)\n",
        "        print(f\"Checkpoint saved: {checkpoint_path}\")\n",
        "\n",
        "    torch.cuda.empty_cache()\n",
        "\n",
        "\n",
        "plt.figure(figsize=(10, 6))\n",
        "plt.plot(train_losses, label=\"Train Loss\", marker='o')\n",
        "plt.plot(test_losses, label=\"Test Loss\", marker='s')\n",
        "plt.xlabel(\"Epoch\")\n",
        "plt.ylabel(\"Loss\")\n",
        "plt.title(\"Training and Test Loss\")\n",
        "plt.legend()\n",
        "plt.grid(True)\n",
        "plt.show()\n"
      ]
    },
    {
      "cell_type": "markdown",
      "metadata": {
        "id": "pf0nliBCg5U3"
      },
      "source": [
        "## Save model"
      ]
    },
    {
      "cell_type": "code",
      "execution_count": null,
      "metadata": {
        "execution": {
          "iopub.execute_input": "2025-02-27T09:30:17.990524Z",
          "iopub.status.busy": "2025-02-27T09:30:17.990221Z",
          "iopub.status.idle": "2025-02-27T09:30:18.050854Z",
          "shell.execute_reply": "2025-02-27T09:30:18.050161Z",
          "shell.execute_reply.started": "2025-02-27T09:30:17.990502Z"
        },
        "id": "Vy8gfS9Iesa0",
        "outputId": "3509dfe8-5601-4df2-aba5-d5ce1dc2dd7e",
        "trusted": true
      },
      "outputs": [
        {
          "name": "stdout",
          "output_type": "stream",
          "text": [
            "Model saved successfully at: /kaggle/working/tacotron_nlp_tts.pth\n"
          ]
        }
      ],
      "source": [
        "# Change the path accordingly\n",
        "model_save_path = \"tacotron_nlp_tts.pth\"\n",
        "\n",
        "torch.save({\n",
        "    \"epoch\": num_epochs,\n",
        "    \"model_state_dict\": model.state_dict(),\n",
        "    \"optimizer_state_dict\": optimizer.state_dict(),\n",
        "    \"train_losses\": train_losses,\n",
        "    \"test_losses\": test_losses\n",
        "}, model_save_path)\n",
        "\n",
        "print(f\"Model saved successfully at: {model_save_path}\")\n"
      ]
    },
    {
      "cell_type": "code",
      "execution_count": null,
      "metadata": {
        "id": "ajTTt-mOesa0",
        "trusted": true
      },
      "outputs": [],
      "source": []
    },
    {
      "cell_type": "markdown",
      "metadata": {
        "id": "WCbQwzO5hE6F"
      },
      "source": [
        "## loading model for evaluation"
      ]
    },
    {
      "cell_type": "code",
      "execution_count": null,
      "metadata": {
        "execution": {
          "iopub.execute_input": "2025-02-27T09:32:40.257602Z",
          "iopub.status.busy": "2025-02-27T09:32:40.257277Z",
          "iopub.status.idle": "2025-02-27T09:32:40.314501Z",
          "shell.execute_reply": "2025-02-27T09:32:40.313816Z",
          "shell.execute_reply.started": "2025-02-27T09:32:40.257575Z"
        },
        "id": "K4dt8qGmesa0",
        "outputId": "e39c72e1-17f4-4962-9fd6-69200022527e",
        "trusted": true
      },
      "outputs": [
        {
          "name": "stdout",
          "output_type": "stream",
          "text": [
            "Model loaded successfully for inference!\n"
          ]
        }
      ],
      "source": [
        "checkpoint = torch.load(model_load_path, map_location=device, weights_only=True)\n",
        "model.load_state_dict(checkpoint[\"model_state_dict\"])\n",
        "\n",
        "print(\"Model loaded successfully for inference!\")\n"
      ]
    },
    {
      "cell_type": "code",
      "execution_count": null,
      "metadata": {
        "execution": {
          "iopub.execute_input": "2025-02-27T09:41:58.139321Z",
          "iopub.status.busy": "2025-02-27T09:41:58.138924Z",
          "iopub.status.idle": "2025-02-27T09:41:58.144973Z",
          "shell.execute_reply": "2025-02-27T09:41:58.144048Z",
          "shell.execute_reply.started": "2025-02-27T09:41:58.139289Z"
        },
        "id": "717QEaQvesa0",
        "outputId": "9ba7d92e-33d0-4e09-ba6a-da7aa9423418",
        "trusted": true
      },
      "outputs": [
        {
          "name": "stdout",
          "output_type": "stream",
          "text": [
            "(phoneme_ids)\n",
            "('self', 'phoneme_ids', 'embedded', 'encoder_outputs', '_', 'decoder_outputs', 'mel_outputs')\n"
          ]
        }
      ],
      "source": [
        "print(inspect.signature(model.forward))\n",
        "print(model.forward.__code__.co_varnames)\n"
      ]
    },
    {
      "cell_type": "code",
      "execution_count": null,
      "metadata": {
        "id": "BAehXLD0esa1",
        "trusted": true
      },
      "outputs": [],
      "source": [
        "phoneme_file = \"/kaggle/input/kencorpous/kencorpus (1).phone\"\n",
        "with open(phoneme_file, \"r\") as f:\n",
        "    phoneme_list = [line.strip() for line in f if line.strip()]"
      ]
    },
    {
      "cell_type": "code",
      "execution_count": null,
      "metadata": {
        "id": "GhcWvdP1esa1",
        "trusted": true
      },
      "outputs": [],
      "source": [
        "phoneme_to_id = {phoneme: idx for idx, phoneme in enumerate(phoneme_list)}"
      ]
    },
    {
      "cell_type": "code",
      "execution_count": null,
      "metadata": {
        "id": "TBsM948wesa1",
        "trusted": true
      },
      "outputs": [],
      "source": [
        "def convert_to_ids(phoneme_str):\n",
        "    return [phoneme_to_id[ph] for ph in phoneme_str.split() if ph in phoneme_to_id]"
      ]
    },
    {
      "cell_type": "markdown",
      "metadata": {
        "id": "Dl9XJGivhSD2"
      },
      "source": [
        "## Testing model with phonemes sequence"
      ]
    },
    {
      "cell_type": "markdown",
      "metadata": {},
      "source": [
        "### Asking user to enter any sentence in Swahili"
      ]
    },
    {
      "cell_type": "code",
      "execution_count": null,
      "metadata": {},
      "outputs": [],
      "source": [
        "def swahili_to_phoneme(word):\n",
        "    swahili_phoneme_map = {\n",
        "        'a': 'AA', 'b': 'B', 'ch': 'CH', 'd': 'D', 'dh': 'DH', 'e': 'EH', 'ee': 'EE',\n",
        "        'f': 'F', 'g': 'G', 'gh': 'GH', 'h': 'HH', 'i': 'IH', 'ii': 'II', 'j': 'JH',\n",
        "        'k': 'K', 'kh': 'KH', 'l': 'L', 'm': 'M', 'mb': 'MB', 'n': 'N', 'nd': 'ND',\n",
        "        'nj': 'NJ', 'ng': 'NG', \"ng'\": \"NG'\", 'ny': 'NY', 'nz': 'NZ', 'o': 'OH',\n",
        "        'oo': 'OO', 'p': 'P', 'r': 'R', 's': 'S', 'sh': 'SH', 't': 'T', 'th': 'TH',\n",
        "        'u': 'UH', 'uu': 'UU', 'v': 'V', 'w': 'W', 'y': 'Y', 'z': 'Z'\n",
        "    }\n",
        "    \n",
        "    user_phonemes = []\n",
        "    i = 0\n",
        "    while i < len(word):\n",
        "        if i + 1 < len(word) and word[i:i+2] in swahili_phoneme_map:\n",
        "            user_phonemes.append(swahili_phoneme_map[word[i:i+2]])\n",
        "            i += 2\n",
        "        elif word[i] in swahili_phoneme_map:\n",
        "            user_phonemes.append(swahili_phoneme_map[word[i]])\n",
        "            i += 1\n",
        "        else:\n",
        "            user_phonemes.append(word[i])\n",
        "            i += 1\n",
        "    \n",
        "    return ' '.join(user_phonemes)\n",
        "\n",
        "def convert_input_to_phonemes():\n",
        "    user_input = input(\"Enter a Swahili word or sentence: \")\n",
        "    words = user_input.split()\n",
        "    phoneme_result = ' '.join([swahili_to_phoneme(word) for word in words])\n",
        "    return phoneme_result\n",
        "\n",
        "user_phonemes = convert_input_to_phonemes()\n",
        "print(\"Converted Phonemes:\", user_phonemes)"
      ]
    },
    {
      "cell_type": "code",
      "execution_count": null,
      "metadata": {
        "execution": {
          "iopub.execute_input": "2025-02-27T10:15:27.522919Z",
          "iopub.status.busy": "2025-02-27T10:15:27.522622Z",
          "iopub.status.idle": "2025-02-27T10:15:29.899929Z",
          "shell.execute_reply": "2025-02-27T10:15:29.899003Z",
          "shell.execute_reply.started": "2025-02-27T10:15:27.522898Z"
        },
        "id": "w0oJ6gohesa1",
        "outputId": "047b6040-f0e2-4b43-bc0d-1e7109d2c685",
        "trusted": true
      },
      "outputs": [
        {
          "name": "stderr",
          "output_type": "stream",
          "text": [
            "<ipython-input-71-3d95db3cb72f>:12: FutureWarning: You are using `torch.load` with `weights_only=False` (the current default value), which uses the default pickle module implicitly. It is possible to construct malicious pickle data which will execute arbitrary code during unpickling (See https://github.com/pytorch/pytorch/blob/main/SECURITY.md#untrusted-models for more details). In a future release, the default value for `weights_only` will be flipped to `True`. This limits the functions that could be executed during unpickling. Arbitrary objects will no longer be allowed to be loaded via this mode unless they are explicitly allowlisted by the user via `torch.serialization.add_safe_globals`. We recommend you start setting `weights_only=True` for any use case where you don't have full control of the loaded file. Please open an issue on GitHub for any issues related to this experimental feature.\n",
            "  checkpoint = torch.load(model_path, map_location=device)\n"
          ]
        },
        {
          "data": {
            "image/png": "[encoded data removed]",
            "text/plain": [
              "<Figure size 1200x500 with 2 Axes>"
            ]
          },
          "metadata": {},
          "output_type": "display_data"
        },
        {
          "name": "stdout",
          "output_type": "stream",
          "text": [
            "🔹 Expected Audio Duration: 0.93 seconds\n",
            "✅ Fixed Audio Saved at: ./fixed_generated_audio.wav\n"
          ]
        }
      ],
      "source": [
        "model_path = \"tacotron_nlp_tts.pth\"\n",
        "device = torch.device(\"cuda\" if torch.cuda.is_available() else \"cpu\")\n",
        "\n",
        "checkpoint = torch.load(model_path, map_location=device)\n",
        "\n",
        "\n",
        "model = SimpleTacotron2(vocab_size=50, embedding_dim=256, encoder_dim=256, decoder_dim=256, mel_dim=80).to(device)\n",
        "model.load_state_dict(checkpoint[\"model_state_dict\"])\n",
        "model.eval()\n",
        "\n",
        "phoneme_sequence = [user_phonemes]\n",
        "\n",
        "# Convert phoneme sequence to IDs\n",
        "phoneme_to_id = {p: i for i, p in enumerate(set(phoneme_sequence))}\n",
        "phoneme_ids = [phoneme_to_id[p] for p in phoneme_sequence]\n",
        "\n",
        "# Convert phoneme sequence to tensor\n",
        "phoneme_tensor = torch.tensor([phoneme_ids], dtype=torch.long).to(device)\n",
        "\n",
        "with torch.no_grad():\n",
        "    mel_outputs = []\n",
        "    mel_input = torch.zeros(1, 1, 80).to(device)\n",
        "    max_mel_length = len(phoneme_ids) * 10\n",
        "    stop_threshold = 0.5\n",
        "\n",
        "    for i in range(max_mel_length):\n",
        "        mel_output = model(phoneme_tensor)\n",
        "\n",
        "        next_frame = mel_output[:, -1:, :]\n",
        "        mel_outputs.append(next_frame)\n",
        "        mel_input = torch.cat([mel_input, next_frame], dim=1)\n",
        "\n",
        "        # If the model predicts a stop token that exceeds the threshold, break the loop\n",
        "        # if stop_token is not None and stop_token[:, -1].item() > stop_threshold:\n",
        "        #     print(f\"Stopping generation at frame {i+1} based on stop token threshold.\")\n",
        "        #     break\n",
        "\n",
        "\n",
        "    mel_spectrogram = torch.cat(mel_outputs, dim=1)\n",
        "\n",
        "\n",
        "# Convert to NumPy\n",
        "mel_spectrogram_np = mel_spectrogram.squeeze(0).cpu().numpy().astype(np.float32)\n",
        "\n",
        "# Reverse normalization (if needed)\n",
        "mel_spectrogram_np = (mel_spectrogram_np * 4)\n",
        "\n",
        "# Save mel spectrogram\n",
        "np.save(\"./mel_spectrogram.npy\", mel_spectrogram_np)\n",
        "\n",
        "# Plot mel spectrogram\n",
        "plt.figure(figsize=(12, 5))\n",
        "librosa.display.specshow(mel_spectrogram_np.T, sr=22050, hop_length=256, cmap=\"magma\", x_axis=\"time\", y_axis=\"mel\")\n",
        "plt.colorbar(label=\"Amplitude\")\n",
        "plt.title(\"Generated Mel Spectrogram\")\n",
        "plt.xlabel(\"Time\")\n",
        "plt.ylabel(\"Mel Frequency\")\n",
        "plt.savefig(\"generated_mel_spectrogram.png\")\n",
        "plt.show()\n"
      ]
    },
    {
      "cell_type": "markdown",
      "metadata": {
        "id": "ETBUQ4voh1N8"
      },
      "source": [
        "# Griffin-Lim"
      ]
    },
    {
      "cell_type": "markdown",
      "metadata": {
        "id": "b4vSDl6GhnXI"
      },
      "source": [
        "## Creating audio using Mel Spectrogam"
      ]
    },
    {
      "cell_type": "code",
      "execution_count": null,
      "metadata": {
        "id": "-69S27KEesa2",
        "trusted": true
      },
      "outputs": [],
      "source": [
        "sr = 22050\n",
        "n_fft = 1024\n",
        "hop_length = 256\n",
        "win_length = n_fft\n",
        "mel_frames = mel_spectrogram_np.shape[1]\n",
        "expected_duration = (mel_frames * hop_length) / sr\n",
        "print(f\"Expected Audio Duration: {expected_duration:.2f} seconds\")\n",
        "mel_to_linear = librosa.feature.inverse.mel_to_stft(mel_spectrogram_np, sr=sr, n_fft=n_fft)\n",
        "computed_hop_length = 256\n",
        "\n",
        "waveform = librosa.griffinlim(mel_to_linear, n_iter=150, hop_length=computed_hop_length, win_length=1024)\n",
        "\n",
        "# Normalize waveform\n",
        "waveform = waveform / np.max(np.abs(waveform))\n",
        "audio_output_path = \"./fixed_generated_audio.wav\"\n",
        "write(audio_output_path, sr, (waveform * 32767).astype(np.int16))\n",
        "\n",
        "print(f\"Audio Saved at: {audio_output_path}\")\n",
        "\n"
      ]
    },
    {
      "cell_type": "code",
      "execution_count": null,
      "metadata": {
        "execution": {
          "iopub.execute_input": "2025-02-27T10:08:10.005589Z",
          "iopub.status.busy": "2025-02-27T10:08:10.005230Z",
          "iopub.status.idle": "2025-02-27T10:08:10.009932Z",
          "shell.execute_reply": "2025-02-27T10:08:10.009142Z",
          "shell.execute_reply.started": "2025-02-27T10:08:10.005559Z"
        },
        "id": "DDFGYLNZesa2",
        "outputId": "493c459c-2eb1-4248-9f23-ddce4cfa0123",
        "trusted": true
      },
      "outputs": [
        {
          "name": "stdout",
          "output_type": "stream",
          "text": [
            "Mel Spectrogram Shape: (550, 80)\n"
          ]
        }
      ],
      "source": [
        "print(f\"Mel Spectrogram Shape: {mel_spectrogram_np.shape}\")\n"
      ]
    }
  ],
  "metadata": {
    "colab": {
      "provenance": [],
      "toc_visible": true
    },
    "kaggle": {
      "accelerator": "none",
      "dataSources": [
        {
          "datasetId": 6738839,
          "sourceId": 10850362,
          "sourceType": "datasetVersion"
        },
        {
          "datasetId": 6738862,
          "sourceId": 10850395,
          "sourceType": "datasetVersion"
        },
        {
          "datasetId": 6739120,
          "sourceId": 10850731,
          "sourceType": "datasetVersion"
        },
        {
          "isSourceIdPinned": true,
          "modelId": 253179,
          "modelInstanceId": 231407,
          "sourceId": 270379,
          "sourceType": "modelInstanceVersion"
        }
      ],
      "dockerImageVersionId": 30919,
      "isGpuEnabled": false,
      "isInternetEnabled": true,
      "language": "python",
      "sourceType": "notebook"
    },
    "kernelspec": {
      "display_name": "Python 3",
      "language": "python",
      "name": "python3"
    },
    "language_info": {
      "codemirror_mode": {
        "name": "ipython",
        "version": 3
      },
      "file_extension": ".py",
      "mimetype": "text/x-python",
      "name": "python",
      "nbconvert_exporter": "python",
      "pygments_lexer": "ipython3",
      "version": "3.10.12"
    }
  },
  "nbformat": 4,
  "nbformat_minor": 0
}
